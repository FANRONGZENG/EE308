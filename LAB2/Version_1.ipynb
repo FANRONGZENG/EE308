{
 "cells": [
  {
   "cell_type": "markdown",
   "metadata": {},
   "source": [
    "## 导入txt"
   ]
  },
  {
   "cell_type": "code",
   "execution_count": 1,
   "metadata": {
    "collapsed": true
   },
   "outputs": [],
   "source": [
    "file=open(\"C:/Users/65660/Desktop/Lab2/Requirement/lab2.txt\") "
   ]
  },
  {
   "cell_type": "code",
   "execution_count": 2,
   "metadata": {
    "scrolled": true
   },
   "outputs": [
    {
     "name": "stdout",
     "output_type": "stream",
     "text": [
      "#include <stdio.h>\n",
      "\n",
      "int main(){\n",
      "\n",
      "    int i=1;\n",
      "\n",
      "    double j=0;\n",
      "\n",
      "    long f;\n",
      "\n",
      "    switch(i){\n",
      "\n",
      "        case 0:\n",
      "\n",
      "            break;\n",
      "\n",
      "        case 1:\n",
      "\n",
      "            break;\n",
      "\n",
      "        case 2:\n",
      "\n",
      "            break;\n",
      "\n",
      "        default:\n",
      "\n",
      "            break;\n",
      "\n",
      "    }\n",
      "\n",
      "    switch(i){\n",
      "\n",
      "        case 0:\n",
      "\n",
      "            break;\n",
      "\n",
      "        case 1:\n",
      "\n",
      "            break;\n",
      "\n",
      "        default:\n",
      "\n",
      "            break;\n",
      "\n",
      "    }\n",
      "\n",
      "    if(i<0){\n",
      "\n",
      "        if(i<-1){}\n",
      "\n",
      "        else{}\n",
      "\n",
      "    }\n",
      "\n",
      "    else if(i>0){\n",
      "\n",
      "        if (i>2){}\n",
      "\n",
      "        else if (i==2) {}\n",
      "\n",
      "        else if (i>1) {}\n",
      "\n",
      "        else {}\n",
      "\n",
      "    }\n",
      "\n",
      "    else{\n",
      "\n",
      "        if(j!=0){}\n",
      "\n",
      "        else{}\n",
      "\n",
      "    }\n",
      "\n",
      "    return 0;\n",
      "\n",
      "}\n",
      "\n"
     ]
    }
   ],
   "source": [
    "lines=file.readlines()\n",
    "for i in  lines:\n",
    "    print(i)\n",
    "file.close()"
   ]
  },
  {
   "cell_type": "markdown",
   "metadata": {},
   "source": [
    "## 输入路径和指令等级"
   ]
  },
  {
   "cell_type": "code",
   "execution_count": 4,
   "metadata": {},
   "outputs": [
    {
     "name": "stdout",
     "output_type": "stream",
     "text": [
      "please enter your path: C:/Users/65660/Desktop/Lab2（Version_1_20210921_）/Requirement/lab2.txt\n",
      "Path: C:/Users/65660/Desktop/Lab2（Version_1_20210921_）/Requirement/lab2.txt\n"
     ]
    }
   ],
   "source": [
    "path = input('please enter your path: ')\n",
    "print('Path:', path)"
   ]
  },
  {
   "cell_type": "code",
   "execution_count": 5,
   "metadata": {},
   "outputs": [
    {
     "name": "stdout",
     "output_type": "stream",
     "text": [
      "please enter the completion level: 1\n",
      "Level: 1\n"
     ]
    }
   ],
   "source": [
    "level = input('please enter the completion level: ')\n",
    "print('Level:', level)"
   ]
  },
  {
   "cell_type": "code",
   "execution_count": null,
   "metadata": {
    "collapsed": true
   },
   "outputs": [],
   "source": []
  },
  {
   "cell_type": "markdown",
   "metadata": {},
   "source": [
    "### find函数     str.find(str, beg=0, end=len(string))结果证明不行，会把double算做do\n",
    "\n"
   ]
  },
  {
   "cell_type": "markdown",
   "metadata": {},
   "source": [
    "# 指令1"
   ]
  },
  {
   "cell_type": "code",
   "execution_count": 6,
   "metadata": {
    "collapsed": true
   },
   "outputs": [],
   "source": [
    "keywords=['auto','break','case','char','const','continue','default','do','double','else','enum','extern','float','for','goto','if','int','long','register','return','short','signed','sizeof','static','struct','switch','typedef','union','unsigned','void','volatile','while']"
   ]
  },
  {
   "cell_type": "code",
   "execution_count": 7,
   "metadata": {
    "scrolled": false
   },
   "outputs": [
    {
     "name": "stdout",
     "output_type": "stream",
     "text": [
      "['auto', 'break', 'case', 'char', 'const', 'continue', 'default', 'do', 'double', 'else', 'enum', 'extern', 'float', 'for', 'goto', 'if', 'int', 'long', 'register', 'return', 'short', 'signed', 'sizeof', 'static', 'struct', 'switch', 'typedef', 'union', 'unsigned', 'void', 'volatile', 'while']\n"
     ]
    }
   ],
   "source": [
    "print(keywords)"
   ]
  },
  {
   "cell_type": "code",
   "execution_count": 8,
   "metadata": {},
   "outputs": [
    {
     "name": "stdout",
     "output_type": "stream",
     "text": [
      "35\n"
     ]
    }
   ],
   "source": [
    "file=open(\"C:/Users/65660/Desktop/Lab2（Version_1_20210921_）/Requirement/lab2.txt\") \n",
    "lines=file.readlines()\n",
    "\n",
    "total_num=0\n",
    "for keyword in keywords:\n",
    "    #print(keyword)\n",
    "    for i in lines:\n",
    "        index = i.find(keyword)\n",
    "        if index != -1:\n",
    "            result = i[index:index+len(keyword)+1]\n",
    "            if not result[-1].isalpha() :  #判断最后一个是不是字母，不是就删去\n",
    "                result=result[0:-1]\n",
    "            if(result == keyword):\n",
    "                total_num += 1\n",
    "file.close()\n",
    "print(total_num)"
   ]
  },
  {
   "cell_type": "markdown",
   "metadata": {},
   "source": [
    "# 指令2"
   ]
  },
  {
   "cell_type": "code",
   "execution_count": 9,
   "metadata": {},
   "outputs": [
    {
     "name": "stdout",
     "output_type": "stream",
     "text": [
      "switch_num: 2\n"
     ]
    }
   ],
   "source": [
    "switch_num=0\n",
    "key='switch'\n",
    "for i in lines:\n",
    "    index = i.find(key)\n",
    "    if index != -1:\n",
    "        switch_num+=1\n",
    "print('switch_num:',switch_num)"
   ]
  },
  {
   "cell_type": "code",
   "execution_count": null,
   "metadata": {
    "collapsed": true
   },
   "outputs": [],
   "source": []
  },
  {
   "cell_type": "markdown",
   "metadata": {},
   "source": [
    "# 指令3(感觉可以在2的基础上)"
   ]
  },
  {
   "cell_type": "code",
   "execution_count": 3,
   "metadata": {
    "scrolled": true
   },
   "outputs": [
    {
     "name": "stdout",
     "output_type": "stream",
     "text": [
      "switch_num: 2 case num: [3, 2]\n"
     ]
    }
   ],
   "source": [
    "#基本思路：先找到switch，再找后面出现的case，找到 }这个符号 为止\n",
    "switch_num=0\n",
    "key_1='switch'\n",
    "key_2='case'\n",
    "\n",
    "case=[]\n",
    "case_num=0\n",
    "space=0      #用来记录缩进的\n",
    "num=0\n",
    "for i in lines:\n",
    "    num+=1\n",
    "    space=i.find(key_1)\n",
    "    if space != -1:\n",
    "        #print('SJ',i.find(key_1))\n",
    "        #print('line:',num)\n",
    "        for i in lines[num:]:\n",
    "            if i.find(key_2) != -1: #从switch往后找，如果找到case\n",
    "                case_num+=1\n",
    "            if i.find('}') == space:\n",
    "                switch_num += 1\n",
    "                case.append(case_num)\n",
    "                case_num=0\n",
    "                break\n",
    "            \n",
    "        \n",
    "        \n",
    "print('switch_num:',switch_num,'case num:',case)  \n"
   ]
  },
  {
   "cell_type": "code",
   "execution_count": null,
   "metadata": {
    "collapsed": true
   },
   "outputs": [],
   "source": []
  },
  {
   "cell_type": "markdown",
   "metadata": {},
   "source": [
    "# 指令4 （找if-else）"
   ]
  },
  {
   "cell_type": "code",
   "execution_count": 11,
   "metadata": {},
   "outputs": [
    {
     "name": "stdout",
     "output_type": "stream",
     "text": [
      "if_else_num: 2\n"
     ]
    }
   ],
   "source": [
    "if_space=0\n",
    "else_space=0\n",
    "num=0\n",
    "if_else_num=0 #计数\n",
    "\n",
    "for line in lines:\n",
    "    num+=1\n",
    "    if 'if' in line and 'else if' not in line:\n",
    "        if_space=line.find('if')\n",
    "        for line in lines[num:]:\n",
    "            if 'else' in line and 'else if' not in line:\n",
    "                else_space = line.find('else')\n",
    "                if else_space == if_space:\n",
    "                    if_else_num+=1\n",
    "            break #注意这里要break出第二个for\n",
    "    \n",
    "print(\"if_else_num:\",if_else_num)"
   ]
  },
  {
   "cell_type": "code",
   "execution_count": null,
   "metadata": {
    "collapsed": true
   },
   "outputs": [],
   "source": []
  },
  {
   "cell_type": "markdown",
   "metadata": {},
   "source": [
    "# 指令5（找if-elseif-else结构）"
   ]
  },
  {
   "cell_type": "code",
   "execution_count": 1,
   "metadata": {},
   "outputs": [
    {
     "ename": "NameError",
     "evalue": "name 'lines' is not defined",
     "output_type": "error",
     "traceback": [
      "\u001b[1;31m---------------------------------------------------------------------------\u001b[0m",
      "\u001b[1;31mNameError\u001b[0m                                 Traceback (most recent call last)",
      "\u001b[1;32m<ipython-input-1-fe17ef464f5f>\u001b[0m in \u001b[0;36m<module>\u001b[1;34m()\u001b[0m\n\u001b[0;32m      3\u001b[0m \u001b[0mif_elseif_else_num\u001b[0m\u001b[1;33m=\u001b[0m\u001b[1;36m0\u001b[0m\u001b[1;33m\u001b[0m\u001b[0m\n\u001b[0;32m      4\u001b[0m \u001b[1;33m\u001b[0m\u001b[0m\n\u001b[1;32m----> 5\u001b[1;33m \u001b[1;32mfor\u001b[0m \u001b[0mline\u001b[0m \u001b[1;32min\u001b[0m \u001b[0mlines\u001b[0m\u001b[1;33m:\u001b[0m\u001b[1;33m\u001b[0m\u001b[0m\n\u001b[0m\u001b[0;32m      6\u001b[0m     \u001b[0mnum\u001b[0m\u001b[1;33m+=\u001b[0m\u001b[1;36m1\u001b[0m\u001b[1;33m\u001b[0m\u001b[0m\n\u001b[0;32m      7\u001b[0m     \u001b[1;32mif\u001b[0m \u001b[1;34m'if'\u001b[0m \u001b[1;32min\u001b[0m \u001b[0mline\u001b[0m \u001b[1;32mand\u001b[0m \u001b[1;34m'else if'\u001b[0m \u001b[1;32mnot\u001b[0m \u001b[1;32min\u001b[0m \u001b[0mline\u001b[0m\u001b[1;33m:\u001b[0m\u001b[1;33m\u001b[0m\u001b[0m\n",
      "\u001b[1;31mNameError\u001b[0m: name 'lines' is not defined"
     ]
    }
   ],
   "source": [
    "num=0\n",
    "if_else_num=0\n",
    "if_elseif_else_num=0\n",
    "\n",
    "for line in lines:\n",
    "    num+=1\n",
    "    if 'if' in line and 'else if' not in line:\n",
    "        if_space=line.find('if')\n",
    "        print(\"find a if\")\n",
    "        print(\"line:\",num)\n",
    "        for line in lines[num:]:\n",
    "            if 'else'in line and if_space==line.find('else'):\n",
    "                if 'else if'in line:\n",
    "                    print(\"find an else if\")\n",
    "                    if_elseif_else_num += 1\n",
    "                else:\n",
    "                    print(\"find an else\")\n",
    "                    if_else_num += 1\n",
    "                break\n",
    "            #print(\"yes\")#用来检查的\n",
    "    #print(\"No\")#用来检查的\n",
    "print('if_else_num:',if_else_num,'if_elseif_else_num:',if_elseif_else_num)\n",
    "\n",
    "                    \n",
    "                "
   ]
  },
  {
   "cell_type": "code",
   "execution_count": 16,
   "metadata": {},
   "outputs": [
    {
     "name": "stdout",
     "output_type": "stream",
     "text": [
      "2\n",
      "3\n",
      "2\n"
     ]
    }
   ],
   "source": [
    "case=[3,2]\n",
    "print(len(case))\n",
    "for i in range(len(case)):\n",
    "    print(case[i])\n"
   ]
  }
 ],
 "metadata": {
  "kernelspec": {
   "display_name": "Python 3",
   "language": "python",
   "name": "python3"
  },
  "language_info": {
   "codemirror_mode": {
    "name": "ipython",
    "version": 3
   },
   "file_extension": ".py",
   "mimetype": "text/x-python",
   "name": "python",
   "nbconvert_exporter": "python",
   "pygments_lexer": "ipython3",
   "version": "3.6.2"
  }
 },
 "nbformat": 4,
 "nbformat_minor": 2
}
